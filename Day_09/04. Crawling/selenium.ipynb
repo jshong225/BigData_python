{
 "cells": [
  {
   "cell_type": "code",
   "execution_count": 2,
   "metadata": {
    "collapsed": true
   },
   "outputs": [
    {
     "name": "stdout",
     "output_type": "stream",
     "text": [
      "Collecting selenium\n",
      "  Downloading https://files.pythonhosted.org/packages/80/d6/4294f0b4bce4de0abf13e17190289f9d0613b0a44e5dd6a7f5ca98459853/selenium-3.141.0-py2.py3-none-any.whl (904kB)\n",
      "Requirement already satisfied: urllib3 in c:\\programdata\\anaconda3\\lib\\site-packages (from selenium) (1.24.2)\n",
      "Installing collected packages: selenium\n",
      "Successfully installed selenium-3.141.0\n",
      "Note: you may need to restart the kernel to use updated packages.\n"
     ]
    }
   ],
   "source": [
    "pip install selenium"
   ]
  },
  {
   "cell_type": "code",
   "execution_count": 84,
   "metadata": {},
   "outputs": [],
   "source": [
    "import time\n",
    "import requests\n",
    "import pandas as pd\n",
    "from bs4 import BeautifulSoup\n",
    "from selenium import webdriver"
   ]
  },
  {
   "cell_type": "code",
   "execution_count": 85,
   "metadata": {},
   "outputs": [],
   "source": [
    "driver = webdriver.Chrome('./chromedriver.exe')"
   ]
  },
  {
   "cell_type": "code",
   "execution_count": 86,
   "metadata": {},
   "outputs": [],
   "source": [
    "query = \"강아지\"\n",
    "driver.get('https://www.google.com/search?q={}&tbm=isch'.format(query))"
   ]
  },
  {
   "cell_type": "code",
   "execution_count": 87,
   "metadata": {},
   "outputs": [],
   "source": [
    "html = driver.page_source"
   ]
  },
  {
   "cell_type": "code",
   "execution_count": 88,
   "metadata": {},
   "outputs": [],
   "source": [
    "soup = BeautifulSoup(html, 'html.parser')"
   ]
  },
  {
   "cell_type": "code",
   "execution_count": 89,
   "metadata": {},
   "outputs": [],
   "source": [
    "images = soup.select('#rg_s > div > a')"
   ]
  },
  {
   "cell_type": "code",
   "execution_count": 90,
   "metadata": {},
   "outputs": [
    {
     "data": {
      "text/plain": [
       "200"
      ]
     },
     "execution_count": 90,
     "metadata": {},
     "output_type": "execute_result"
    }
   ],
   "source": [
    "len(images)"
   ]
  },
  {
   "cell_type": "code",
   "execution_count": 91,
   "metadata": {},
   "outputs": [
    {
     "data": {
      "text/plain": [
       "<a class=\"rg_l\" href=\"/imgres?imgurl=https%3A%2F%2Fimages.mypetlife.co.kr%2Fcontent%2Fuploads%2F2019%2F09%2F04222847%2Fdog-panting-1024x683.jpg&amp;imgrefurl=https%3A%2F%2Fmypetlife.co.kr%2F47024%2F&amp;docid=mLo-cRGbJPKSoM&amp;tbnid=HghtUB4eNpBa1M%3A&amp;vet=10ahUKEwjg46zCiuzlAhWjx4sBHUAmBAoQMwj4ASgAMAA..i&amp;w=1024&amp;h=683&amp;bih=528&amp;biw=1034&amp;q=%EA%B0%95%EC%95%84%EC%A7%80&amp;ved=0ahUKEwjg46zCiuzlAhWjx4sBHUAmBAoQMwj4ASgAMAA&amp;iact=mrc&amp;uact=8\" jsaction=\"fire.ivg_o;mouseover:str.hmov;mouseout:str.hmou\" jsname=\"hSRGPd\" rel=\"noopener\" style=\"width: 268px; height: 182px; left: 0px; background: rgb(255, 255, 255);\"><div class=\"THL2l\"></div><img alt=\"강아지에 대한 이미지 검색결과\" class=\"rg_ic rg_i\" data-atf=\"1\" id=\"HghtUB4eNpBa1M:\" jsaction=\"load:str.tbn\" src=\"data:image/jpeg;base64,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\" style=\"width: 273px; height: 182px; margin-left: -4px; margin-right: -1px; margin-top: 0px;\"/><div class=\"rg_ilmbg\">   1024 × 683   </div></a>"
      ]
     },
     "execution_count": 91,
     "metadata": {},
     "output_type": "execute_result"
    }
   ],
   "source": [
    "images[0]"
   ]
  },
  {
   "cell_type": "code",
   "execution_count": 92,
   "metadata": {},
   "outputs": [
    {
     "data": {
      "text/plain": [
       "<selenium.webdriver.remote.webelement.WebElement (session=\"33cfad52fd6da896e99e5ec00d08811a\", element=\"2daf4aaf-6d9b-4b47-a013-e6c5f4b63f8a\")>"
      ]
     },
     "execution_count": 92,
     "metadata": {},
     "output_type": "execute_result"
    }
   ],
   "source": [
    "images2 = driver.find_element_by_css_selector('#rg_s > div > a')\n",
    "images2"
   ]
  },
  {
   "cell_type": "code",
   "execution_count": 93,
   "metadata": {},
   "outputs": [
    {
     "data": {
      "text/plain": [
       "True"
      ]
     },
     "execution_count": 93,
     "metadata": {},
     "output_type": "execute_result"
    }
   ],
   "source": [
    "images2.screenshot('image.png')"
   ]
  },
  {
   "cell_type": "code",
   "execution_count": 94,
   "metadata": {},
   "outputs": [
    {
     "data": {
      "text/plain": [
       "<selenium.webdriver.remote.webelement.WebElement (session=\"33cfad52fd6da896e99e5ec00d08811a\", element=\"2daf4aaf-6d9b-4b47-a013-e6c5f4b63f8a\")>"
      ]
     },
     "execution_count": 94,
     "metadata": {},
     "output_type": "execute_result"
    }
   ],
   "source": [
    "images2"
   ]
  },
  {
   "cell_type": "code",
   "execution_count": 95,
   "metadata": {},
   "outputs": [],
   "source": [
    "driver.execute_script(\"window.scrollBy(0,1000)\")"
   ]
  },
  {
   "cell_type": "code",
   "execution_count": null,
   "metadata": {},
   "outputs": [],
   "source": []
  }
 ],
 "metadata": {
  "kernelspec": {
   "display_name": "Python 3",
   "language": "python",
   "name": "python3"
  },
  "language_info": {
   "codemirror_mode": {
    "name": "ipython",
    "version": 3
   },
   "file_extension": ".py",
   "mimetype": "text/x-python",
   "name": "python",
   "nbconvert_exporter": "python",
   "pygments_lexer": "ipython3",
   "version": "3.7.3"
  }
 },
 "nbformat": 4,
 "nbformat_minor": 2
}
