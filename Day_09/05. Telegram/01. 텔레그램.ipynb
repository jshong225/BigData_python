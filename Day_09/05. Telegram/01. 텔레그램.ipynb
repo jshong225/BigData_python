{
 "cells": [
  {
   "cell_type": "code",
   "execution_count": null,
   "metadata": {},
   "outputs": [],
   "source": [
    "pip instal python-telegram-bot"
   ]
  },
  {
   "cell_type": "code",
   "execution_count": null,
   "metadata": {},
   "outputs": [],
   "source": [
    "import telegram\n",
    "\n",
    "token = \"\"\n",
    "\n",
    "bot = telegram.Bot(token = token) # Bot 선언\n",
    "\n",
    "updates = bot.getUpdates() # 업데이트 내역\n",
    " \n",
    "for u in updates: # 내역중 메세지 출력\n",
    "    print(u.message)"
   ]
  },
  {
   "cell_type": "code",
   "execution_count": null,
   "metadata": {},
   "outputs": [],
   "source": [
    "#chat_id = updates[-1].message.chat.id #가장 최근에 온 메세지의 chat id를 가져옵니다\n",
    "chat_id = \"\"\n",
    "chat_id"
   ]
  },
  {
   "cell_type": "code",
   "execution_count": null,
   "metadata": {},
   "outputs": [],
   "source": [
    "bot.sendMessage(chat_id = chat_id, text = \"안녕하세요.\")"
   ]
  },
  {
   "cell_type": "code",
   "execution_count": null,
   "metadata": {},
   "outputs": [],
   "source": [
    "from bs4 import BeautifulSoup\n",
    "import urllib.request as req\n",
    "from datetime import datetime as dt\n",
    "\n",
    "url = \"http://www.naver.com\"\n",
    "res = req.urlopen(url)\n",
    "\n",
    "data = BeautifulSoup(res, \"html.parser\")\n",
    "\n",
    "rank = data.select(\".ah_r\")\n",
    "word = data.select(\".ah_k\")\n",
    "\n",
    "message = \"[네이버 실시간 검색어 순위]\\n\" \n",
    "message += str(dt.now()) + '\\n'\n",
    "for r, w in zip(rank[:20], word[:20]):\n",
    "    message += r.string + ' ' + w.string + '\\n'\n",
    "print(message)\n",
    "\n",
    "\n",
    "#bot.sendMessage(chat_id = chat_id, text = message)\n",
    "bot.sendMessage(chat_id = \"\", text=message)"
   ]
  },
  {
   "cell_type": "code",
   "execution_count": null,
   "metadata": {},
   "outputs": [],
   "source": [
    "from bs4 import BeautifulSoup\n",
    "import urllib.request as req\n",
    "from datetime import datetime as dt\n",
    "import time\n",
    "\n",
    "while True:\n",
    "    url = \"http://www.naver.com\"\n",
    "    res = req.urlopen(url)\n",
    "\n",
    "    data = BeautifulSoup(res, \"html.parser\")\n",
    "\n",
    "    rank = data.select(\".ah_r\")\n",
    "    word = data.select(\".ah_k\")\n",
    "\n",
    "    message = \"[네이버 실시간 검색어 순위]\\n\" \n",
    "    message += str(dt.now()) + '\\n'\n",
    "    for r, w in zip(rank[:20], word[:20]):\n",
    "        message += r.string + ' ' + w.string + '\\n'\n",
    "    print(message)\n",
    "\n",
    "\n",
    "    bot.sendMessage(chat_id = chat_id, text = message)\n",
    "    \n",
    "    time.sleep(10)"
   ]
  },
  {
   "cell_type": "code",
   "execution_count": null,
   "metadata": {},
   "outputs": [],
   "source": [
    "from bs4 import BeautifulSoup\n",
    "import urllib.request as req\n",
    "from urllib import parse\n",
    "from datetime import datetime as dt\n",
    "\n",
    "keyword = \"대구\"\n",
    "url = \"https://search.naver.com/search.naver?where=news&sm=tab_jum&\"\n",
    "query = [ ('query', keyword)]\n",
    "query = parse.urlencode(query, encoding='UTF-8', doseq=True)\n",
    "url = url + query\n",
    "\n",
    "res = req.urlopen(url)\n",
    "\n",
    "data = BeautifulSoup(res, \"html.parser\")\n",
    "\n",
    "tag = data.select(\"._sp_each_title\")\n",
    "\n",
    "message = \"[네이버 {} 뉴스]\\n\".format(keyword) \n",
    "message += str(dt.now()) + '\\n'\n",
    "for a in tag:\n",
    "    message +=  a['title'] +a['href'] + '\\n'\n",
    "message"
   ]
  },
  {
   "cell_type": "code",
   "execution_count": null,
   "metadata": {},
   "outputs": [],
   "source": [
    "bot.sendMessage(chat_id = chat_id, text = message)"
   ]
  },
  {
   "cell_type": "markdown",
   "metadata": {},
   "source": [
    "\n",
    "여기서 CommandHandler 는 /keyword 메세지 를 들어 올때는 의미\n",
    "\n",
    "/ 가 붙으면 커맨더 명령이라고 인식,  dispatcher에 해당 핸들러를 추가 \n",
    "\n",
    "/keyword 채팅이 왔을때 입력한 keyword로 뉴스 검색해서 결과값 반환"
   ]
  },
  {
   "cell_type": "code",
   "execution_count": null,
   "metadata": {},
   "outputs": [],
   "source": [
    "from telegram.ext import Updater, MessageHandler, Filters, CommandHandler  \n",
    "\n",
    "\n",
    "def getdata(kw):\n",
    "    from bs4 import BeautifulSoup\n",
    "    import urllib.request as req\n",
    "    from urllib import parse\n",
    "    from datetime import datetime as dt\n",
    "\n",
    "    keyword = kw\n",
    "    url = \"https://search.naver.com/search.naver?where=news&sm=tab_jum&\"\n",
    "    query = [ ('query', keyword)]\n",
    "    query = parse.urlencode(query, encoding='UTF-8', doseq=True)\n",
    "    url = url + query\n",
    "\n",
    "    res = req.urlopen(url)\n",
    "\n",
    "    data = BeautifulSoup(res, \"html.parser\")\n",
    "\n",
    "    tag = data.select(\"._sp_each_title\")\n",
    "\n",
    "    message = \"[네이버 {} 뉴스]\\n\".format(keyword) \n",
    "    message += str(dt.now()) + '\\n'\n",
    "    for a in tag:\n",
    "        message +=  a['title'] +a['href'] + '\\n'\n",
    "    return message\n",
    "\n",
    "\n",
    "# help reply function\n",
    "def keyword_command(bot, update) :\n",
    "    kw = update.message.text.split(' ')[-1]\n",
    "    message = getdata(kw)\n",
    "    update.message.reply_text(message)\n",
    "\n",
    "\n",
    "updater = Updater(token)\n",
    "\n",
    "keyword_handler = CommandHandler('keyword', keyword_command)\n",
    "updater.dispatcher.add_handler(keyword_handler)\n",
    "\n",
    "updater.start_polling(timeout=3, clean=True)\n",
    "updater.idle()\n"
   ]
  },
  {
   "cell_type": "markdown",
   "metadata": {},
   "source": [
    "위의 코드가 계속해서 실행되어야만 이벤트를 탐지하고 메세지를 보낼 수 있음.\n",
    "\n",
    "사용자가 해당 봇으로 /keyword 검색어 를 입력하면\n",
    "\n",
    "검색어만 추출하여 kw변수에 저장 후 해당 검색어 뉴스를 조회해서 결과로 전송"
   ]
  },
  {
   "cell_type": "code",
   "execution_count": null,
   "metadata": {},
   "outputs": [],
   "source": []
  }
 ],
 "metadata": {
  "kernelspec": {
   "display_name": "Python 3",
   "language": "python",
   "name": "python3"
  },
  "language_info": {
   "codemirror_mode": {
    "name": "ipython",
    "version": 3
   },
   "file_extension": ".py",
   "mimetype": "text/x-python",
   "name": "python",
   "nbconvert_exporter": "python",
   "pygments_lexer": "ipython3",
   "version": "3.7.5"
  }
 },
 "nbformat": 4,
 "nbformat_minor": 2
}
