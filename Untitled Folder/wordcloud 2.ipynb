{
 "cells": [
  {
   "cell_type": "code",
   "execution_count": 1,
   "metadata": {},
   "outputs": [],
   "source": [
    "def make_wcloud(file=None, sheet=None):\n",
    "  wkbook = open_workbook(file)\n",
    "  comment_list=get_comments(wkbook,sheet,1)\n",
    "  \n",
    "  # 문장리스트 생성\n",
    "  sentence_list =[]\n",
    "  for i in range(0,len(comment_list)) :\n",
    "    sentence_list.append(sent_tokenize(comment_list[i])) \n",
    "  \n",
    "  #print(sentence_list)\n",
    "\n",
    "  # 토큰리스트 생성\n",
    "  token_list = []\n",
    "  for i in range(0,len(comment_list)) :\n",
    "    token_list.append(word_tokenize(comment_list[i]))\n",
    "\n",
    "  #print(token_list)\n",
    "\n",
    "  #품사 태그 넣기(명사만 사용할 것이므로 원형 복원은 패스)\n",
    "  tag_list = []\n",
    "  for i in range(0,len(token_list)):\n",
    "    tag_list.append(pos_tag(token_list[i]))\n",
    "\n",
    "  #print(tag_list)\n",
    "\n",
    "  #명사만 선택하자\n",
    "  selected_list = []\n",
    "  for i in tag_list:\n",
    "    for j in i :\n",
    "      if j[1] == 'NNP' and 'NN':\n",
    "        selected_list.append(j[0])\n",
    "        #print(j[0],j[1])\n",
    "\n",
    "  #빈도수 측정\n",
    "  result = FreqDist(selected_list)\n",
    "\n",
    "  wc = WordCloud(width=3000, height=1500, background_color=\"white\", random_state=0)\n",
    "  plt.imshow(wc.generate_from_frequencies(result))\n",
    "  plt.axis(\"off\")\n",
    "  plt.show()\n",
    "\n",
    "  return result"
   ]
  },
  {
   "cell_type": "code",
   "execution_count": null,
   "metadata": {},
   "outputs": [],
   "source": []
  },
  {
   "cell_type": "code",
   "execution_count": null,
   "metadata": {},
   "outputs": [],
   "source": []
  }
 ],
 "metadata": {
  "kernelspec": {
   "display_name": "Python 3",
   "language": "python",
   "name": "python3"
  },
  "language_info": {
   "codemirror_mode": {
    "name": "ipython",
    "version": 3
   },
   "file_extension": ".py",
   "mimetype": "text/x-python",
   "name": "python",
   "nbconvert_exporter": "python",
   "pygments_lexer": "ipython3",
   "version": "3.7.3"
  }
 },
 "nbformat": 4,
 "nbformat_minor": 2
}
