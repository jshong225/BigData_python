{
 "cells": [
  {
   "cell_type": "code",
   "execution_count": 50,
   "metadata": {},
   "outputs": [],
   "source": [
    "import pandas as pd"
   ]
  },
  {
   "cell_type": "code",
   "execution_count": 51,
   "metadata": {},
   "outputs": [],
   "source": [
    "data1 = pd.read_csv('./data_csv/rank30.csv', encoding='cp949')"
   ]
  },
  {
   "cell_type": "code",
   "execution_count": 52,
   "metadata": {
    "scrolled": true
   },
   "outputs": [
    {
     "data": {
      "text/html": [
       "<div>\n",
       "<style scoped>\n",
       "    .dataframe tbody tr th:only-of-type {\n",
       "        vertical-align: middle;\n",
       "    }\n",
       "\n",
       "    .dataframe tbody tr th {\n",
       "        vertical-align: top;\n",
       "    }\n",
       "\n",
       "    .dataframe thead th {\n",
       "        text-align: right;\n",
       "    }\n",
       "</style>\n",
       "<table border=\"1\" class=\"dataframe\">\n",
       "  <thead>\n",
       "    <tr style=\"text-align: right;\">\n",
       "      <th></th>\n",
       "      <th>시도</th>\n",
       "      <th>군구</th>\n",
       "      <th>관광지</th>\n",
       "      <th>무료/유료</th>\n",
       "      <th>세부구분</th>\n",
       "      <th>내/외국인</th>\n",
       "      <th>총계</th>\n",
       "      <th>2004년</th>\n",
       "      <th>2005년</th>\n",
       "      <th>2006년</th>\n",
       "      <th>...</th>\n",
       "      <th>2010년</th>\n",
       "      <th>2011년</th>\n",
       "      <th>2012년</th>\n",
       "      <th>2013년</th>\n",
       "      <th>2014년</th>\n",
       "      <th>2015년</th>\n",
       "      <th>2016년</th>\n",
       "      <th>2017년</th>\n",
       "      <th>2018년</th>\n",
       "      <th>2019년</th>\n",
       "    </tr>\n",
       "  </thead>\n",
       "  <tbody>\n",
       "    <tr>\n",
       "      <th>0</th>\n",
       "      <td>대구광역시</td>\n",
       "      <td>달서구</td>\n",
       "      <td>두류공원</td>\n",
       "      <td>무료</td>\n",
       "      <td>추정</td>\n",
       "      <td>합계</td>\n",
       "      <td>133245696</td>\n",
       "      <td>19454625.0</td>\n",
       "      <td>33889967.0</td>\n",
       "      <td>33411032.0</td>\n",
       "      <td>...</td>\n",
       "      <td>8105877.0</td>\n",
       "      <td>11260607.0</td>\n",
       "      <td>11616238.0</td>\n",
       "      <td>NaN</td>\n",
       "      <td>NaN</td>\n",
       "      <td>NaN</td>\n",
       "      <td>NaN</td>\n",
       "      <td>NaN</td>\n",
       "      <td>NaN</td>\n",
       "      <td>NaN</td>\n",
       "    </tr>\n",
       "  </tbody>\n",
       "</table>\n",
       "<p>1 rows × 23 columns</p>\n",
       "</div>"
      ],
      "text/plain": [
       "      시도   군구   관광지 무료/유료 세부구분 내/외국인         총계       2004년       2005년  \\\n",
       "0  대구광역시  달서구  두류공원    무료   추정    합계  133245696  19454625.0  33889967.0   \n",
       "\n",
       "        2006년  ...      2010년       2011년       2012년  2013년  2014년  2015년  \\\n",
       "0  33411032.0  ...  8105877.0  11260607.0  11616238.0    NaN    NaN    NaN   \n",
       "\n",
       "   2016년  2017년  2018년  2019년  \n",
       "0    NaN    NaN    NaN    NaN  \n",
       "\n",
       "[1 rows x 23 columns]"
      ]
     },
     "execution_count": 52,
     "metadata": {},
     "output_type": "execute_result"
    }
   ],
   "source": [
    "data1.head(1)"
   ]
  },
  {
   "cell_type": "code",
   "execution_count": 53,
   "metadata": {},
   "outputs": [
    {
     "data": {
      "text/plain": [
       "Index(['시도', '군구', '관광지', '무료/유료', '세부구분', '내/외국인', '총계', '2004년', '2005년',\n",
       "       '2006년', '2007년', '2008년', '2009년', '2010년', '2011년', '2012년', '2013년',\n",
       "       '2014년', '2015년', '2016년', '2017년', '2018년', '2019년'],\n",
       "      dtype='object')"
      ]
     },
     "execution_count": 53,
     "metadata": {},
     "output_type": "execute_result"
    }
   ],
   "source": [
    "data1.columns"
   ]
  },
  {
   "cell_type": "code",
   "execution_count": 54,
   "metadata": {},
   "outputs": [
    {
     "data": {
      "text/plain": [
       "(33, 23)"
      ]
     },
     "execution_count": 54,
     "metadata": {},
     "output_type": "execute_result"
    }
   ],
   "source": [
    "data1.shape"
   ]
  },
  {
   "cell_type": "code",
   "execution_count": 55,
   "metadata": {},
   "outputs": [
    {
     "data": {
      "text/html": [
       "<div>\n",
       "<style scoped>\n",
       "    .dataframe tbody tr th:only-of-type {\n",
       "        vertical-align: middle;\n",
       "    }\n",
       "\n",
       "    .dataframe tbody tr th {\n",
       "        vertical-align: top;\n",
       "    }\n",
       "\n",
       "    .dataframe thead th {\n",
       "        text-align: right;\n",
       "    }\n",
       "</style>\n",
       "<table border=\"1\" class=\"dataframe\">\n",
       "  <thead>\n",
       "    <tr style=\"text-align: right;\">\n",
       "      <th></th>\n",
       "      <th>시도</th>\n",
       "      <th>군구</th>\n",
       "      <th>관광지</th>\n",
       "      <th>무료/유료</th>\n",
       "      <th>세부구분</th>\n",
       "      <th>내/외국인</th>\n",
       "      <th>총계</th>\n",
       "      <th>2004년</th>\n",
       "      <th>2005년</th>\n",
       "      <th>2006년</th>\n",
       "      <th>...</th>\n",
       "      <th>2010년</th>\n",
       "      <th>2011년</th>\n",
       "      <th>2012년</th>\n",
       "      <th>2013년</th>\n",
       "      <th>2014년</th>\n",
       "      <th>2015년</th>\n",
       "      <th>2016년</th>\n",
       "      <th>2017년</th>\n",
       "      <th>2018년</th>\n",
       "      <th>2019년</th>\n",
       "    </tr>\n",
       "  </thead>\n",
       "  <tbody>\n",
       "    <tr>\n",
       "      <th>32</th>\n",
       "      <td>경상북도</td>\n",
       "      <td>영덕군</td>\n",
       "      <td>강구항</td>\n",
       "      <td>무료</td>\n",
       "      <td>추정</td>\n",
       "      <td>합계</td>\n",
       "      <td>7143588</td>\n",
       "      <td>193304.0</td>\n",
       "      <td>453680.0</td>\n",
       "      <td>464435.0</td>\n",
       "      <td>...</td>\n",
       "      <td>1737234.0</td>\n",
       "      <td>1168261.0</td>\n",
       "      <td>NaN</td>\n",
       "      <td>NaN</td>\n",
       "      <td>NaN</td>\n",
       "      <td>NaN</td>\n",
       "      <td>NaN</td>\n",
       "      <td>NaN</td>\n",
       "      <td>NaN</td>\n",
       "      <td>NaN</td>\n",
       "    </tr>\n",
       "  </tbody>\n",
       "</table>\n",
       "<p>1 rows × 23 columns</p>\n",
       "</div>"
      ],
      "text/plain": [
       "      시도   군구  관광지 무료/유료 세부구분 내/외국인       총계     2004년     2005년     2006년  \\\n",
       "32  경상북도  영덕군  강구항    무료   추정    합계  7143588  193304.0  453680.0  464435.0   \n",
       "\n",
       "    ...      2010년      2011년  2012년  2013년  2014년  2015년  2016년  2017년  \\\n",
       "32  ...  1737234.0  1168261.0    NaN    NaN    NaN    NaN    NaN    NaN   \n",
       "\n",
       "    2018년  2019년  \n",
       "32    NaN    NaN  \n",
       "\n",
       "[1 rows x 23 columns]"
      ]
     },
     "execution_count": 55,
     "metadata": {},
     "output_type": "execute_result"
    }
   ],
   "source": [
    "data1.tail(1)"
   ]
  },
  {
   "cell_type": "code",
   "execution_count": 56,
   "metadata": {},
   "outputs": [
    {
     "name": "stdout",
     "output_type": "stream",
     "text": [
      "<class 'pandas.core.frame.DataFrame'>\n",
      "RangeIndex: 33 entries, 0 to 32\n",
      "Data columns (total 23 columns):\n",
      "시도       33 non-null object\n",
      "군구       33 non-null object\n",
      "관광지      33 non-null object\n",
      "무료/유료    33 non-null object\n",
      "세부구분     33 non-null object\n",
      "내/외국인    33 non-null object\n",
      "총계       33 non-null int64\n",
      "2004년    25 non-null float64\n",
      "2005년    26 non-null float64\n",
      "2006년    26 non-null float64\n",
      "2007년    28 non-null float64\n",
      "2008년    28 non-null float64\n",
      "2009년    28 non-null float64\n",
      "2010년    30 non-null float64\n",
      "2011년    31 non-null float64\n",
      "2012년    30 non-null float64\n",
      "2013년    9 non-null float64\n",
      "2014년    11 non-null float64\n",
      "2015년    11 non-null float64\n",
      "2016년    11 non-null float64\n",
      "2017년    11 non-null float64\n",
      "2018년    12 non-null float64\n",
      "2019년    10 non-null float64\n",
      "dtypes: float64(16), int64(1), object(6)\n",
      "memory usage: 6.0+ KB\n"
     ]
    }
   ],
   "source": [
    "data1.info()"
   ]
  },
  {
   "cell_type": "code",
   "execution_count": 57,
   "metadata": {},
   "outputs": [
    {
     "data": {
      "text/plain": [
       "시도        0\n",
       "군구        0\n",
       "관광지       0\n",
       "무료/유료     0\n",
       "세부구분      0\n",
       "내/외국인     0\n",
       "총계        0\n",
       "2004년     8\n",
       "2005년     7\n",
       "2006년     7\n",
       "2007년     5\n",
       "2008년     5\n",
       "2009년     5\n",
       "2010년     3\n",
       "2011년     2\n",
       "2012년     3\n",
       "2013년    24\n",
       "2014년    22\n",
       "2015년    22\n",
       "2016년    22\n",
       "2017년    22\n",
       "2018년    21\n",
       "2019년    23\n",
       "dtype: int64"
      ]
     },
     "execution_count": 57,
     "metadata": {},
     "output_type": "execute_result"
    }
   ],
   "source": [
    "data1.isnull().sum()"
   ]
  },
  {
   "cell_type": "code",
   "execution_count": 58,
   "metadata": {},
   "outputs": [
    {
     "data": {
      "text/plain": [
       "Index(['시도', '군구', '관광지', '무료/유료', '세부구분', '내/외국인', '총계', '2004년', '2005년',\n",
       "       '2006년', '2007년', '2008년', '2009년', '2010년', '2011년', '2012년', '2013년',\n",
       "       '2014년', '2015년', '2016년', '2017년', '2018년', '2019년'],\n",
       "      dtype='object')"
      ]
     },
     "execution_count": 58,
     "metadata": {},
     "output_type": "execute_result"
    }
   ],
   "source": [
    "data1.columns"
   ]
  },
  {
   "cell_type": "code",
   "execution_count": 60,
   "metadata": {},
   "outputs": [],
   "source": [
    "data1 = data1.drop([\"2004년\", '2005년',\n",
    "       '2006년', '2007년', '2008년', '2009년', '2010년', '2011년', '2012년', '2013년',\n",
    "       '2014년', '2015년', '2016년', '2017년', '2018년', '2019년'],1)"
   ]
  },
  {
   "cell_type": "code",
   "execution_count": 61,
   "metadata": {},
   "outputs": [
    {
     "data": {
      "text/plain": [
       "Index(['시도', '군구', '관광지', '무료/유료', '세부구분', '내/외국인', '총계'], dtype='object')"
      ]
     },
     "execution_count": 61,
     "metadata": {},
     "output_type": "execute_result"
    }
   ],
   "source": [
    "data1.columns"
   ]
  },
  {
   "cell_type": "code",
   "execution_count": 63,
   "metadata": {},
   "outputs": [],
   "source": [
    "data1 = data1.drop(['시도','군구','무료/유료','세부구분','내/외국인'],1)"
   ]
  },
  {
   "cell_type": "code",
   "execution_count": 64,
   "metadata": {},
   "outputs": [
    {
     "data": {
      "text/plain": [
       "Index(['관광지', '총계'], dtype='object')"
      ]
     },
     "execution_count": 64,
     "metadata": {},
     "output_type": "execute_result"
    }
   ],
   "source": [
    "data1.columns"
   ]
  },
  {
   "cell_type": "code",
   "execution_count": 65,
   "metadata": {},
   "outputs": [],
   "source": [
    "import matplotlib.pyplot as plt\n",
    "%matplotlib inline"
   ]
  },
  {
   "cell_type": "code",
   "execution_count": 68,
   "metadata": {},
   "outputs": [
    {
     "data": {
      "text/html": [
       "<div>\n",
       "<style scoped>\n",
       "    .dataframe tbody tr th:only-of-type {\n",
       "        vertical-align: middle;\n",
       "    }\n",
       "\n",
       "    .dataframe tbody tr th {\n",
       "        vertical-align: top;\n",
       "    }\n",
       "\n",
       "    .dataframe thead th {\n",
       "        text-align: right;\n",
       "    }\n",
       "</style>\n",
       "<table border=\"1\" class=\"dataframe\">\n",
       "  <thead>\n",
       "    <tr style=\"text-align: right;\">\n",
       "      <th></th>\n",
       "      <th>관광지</th>\n",
       "      <th>총계</th>\n",
       "    </tr>\n",
       "  </thead>\n",
       "  <tbody>\n",
       "    <tr>\n",
       "      <th>0</th>\n",
       "      <td>두류공원</td>\n",
       "      <td>133245696</td>\n",
       "    </tr>\n",
       "    <tr>\n",
       "      <th>1</th>\n",
       "      <td>보문관광단지</td>\n",
       "      <td>60215672</td>\n",
       "    </tr>\n",
       "    <tr>\n",
       "      <th>2</th>\n",
       "      <td>동화사</td>\n",
       "      <td>56663992</td>\n",
       "    </tr>\n",
       "    <tr>\n",
       "      <th>3</th>\n",
       "      <td>갓바위집단시설지</td>\n",
       "      <td>51517471</td>\n",
       "    </tr>\n",
       "    <tr>\n",
       "      <th>4</th>\n",
       "      <td>갓바위</td>\n",
       "      <td>51246042</td>\n",
       "    </tr>\n",
       "    <tr>\n",
       "      <th>5</th>\n",
       "      <td>앞산공원</td>\n",
       "      <td>45947380</td>\n",
       "    </tr>\n",
       "    <tr>\n",
       "      <th>6</th>\n",
       "      <td>파계사</td>\n",
       "      <td>28259191</td>\n",
       "    </tr>\n",
       "    <tr>\n",
       "      <th>7</th>\n",
       "      <td>불국사</td>\n",
       "      <td>27711905</td>\n",
       "    </tr>\n",
       "    <tr>\n",
       "      <th>8</th>\n",
       "      <td>달성공원</td>\n",
       "      <td>22531492</td>\n",
       "    </tr>\n",
       "    <tr>\n",
       "      <th>9</th>\n",
       "      <td>강구항</td>\n",
       "      <td>21859039</td>\n",
       "    </tr>\n",
       "    <tr>\n",
       "      <th>10</th>\n",
       "      <td>풍기인삼시장</td>\n",
       "      <td>21556407</td>\n",
       "    </tr>\n",
       "    <tr>\n",
       "      <th>11</th>\n",
       "      <td>문경새재도립공원</td>\n",
       "      <td>17898067</td>\n",
       "    </tr>\n",
       "    <tr>\n",
       "      <th>12</th>\n",
       "      <td>해맞이광장</td>\n",
       "      <td>17189224</td>\n",
       "    </tr>\n",
       "    <tr>\n",
       "      <th>13</th>\n",
       "      <td>하회마을</td>\n",
       "      <td>17150877</td>\n",
       "    </tr>\n",
       "    <tr>\n",
       "      <th>14</th>\n",
       "      <td>석굴암</td>\n",
       "      <td>16018751</td>\n",
       "    </tr>\n",
       "    <tr>\n",
       "      <th>15</th>\n",
       "      <td>경주 동궁과 월지</td>\n",
       "      <td>14789511</td>\n",
       "    </tr>\n",
       "    <tr>\n",
       "      <th>16</th>\n",
       "      <td>죽도시장</td>\n",
       "      <td>14103199</td>\n",
       "    </tr>\n",
       "    <tr>\n",
       "      <th>17</th>\n",
       "      <td>우방타워랜드</td>\n",
       "      <td>13936792</td>\n",
       "    </tr>\n",
       "    <tr>\n",
       "      <th>18</th>\n",
       "      <td>직지문화공원</td>\n",
       "      <td>13581067</td>\n",
       "    </tr>\n",
       "    <tr>\n",
       "      <th>19</th>\n",
       "      <td>국채보상기념공원</td>\n",
       "      <td>13328271</td>\n",
       "    </tr>\n",
       "    <tr>\n",
       "      <th>20</th>\n",
       "      <td>안동국제탈춤페스티벌</td>\n",
       "      <td>12975672</td>\n",
       "    </tr>\n",
       "    <tr>\n",
       "      <th>21</th>\n",
       "      <td>월포해수욕장</td>\n",
       "      <td>11371379</td>\n",
       "    </tr>\n",
       "    <tr>\n",
       "      <th>22</th>\n",
       "      <td>경주월드</td>\n",
       "      <td>10978093</td>\n",
       "    </tr>\n",
       "    <tr>\n",
       "      <th>23</th>\n",
       "      <td>부석사</td>\n",
       "      <td>9752197</td>\n",
       "    </tr>\n",
       "    <tr>\n",
       "      <th>24</th>\n",
       "      <td>이월드</td>\n",
       "      <td>9746318</td>\n",
       "    </tr>\n",
       "    <tr>\n",
       "      <th>25</th>\n",
       "      <td>금오산(탐방로 입구)</td>\n",
       "      <td>9513917</td>\n",
       "    </tr>\n",
       "    <tr>\n",
       "      <th>26</th>\n",
       "      <td>고령지산동고분군</td>\n",
       "      <td>9131295</td>\n",
       "    </tr>\n",
       "    <tr>\n",
       "      <th>27</th>\n",
       "      <td>국립등대박물관</td>\n",
       "      <td>8723429</td>\n",
       "    </tr>\n",
       "    <tr>\n",
       "      <th>28</th>\n",
       "      <td>금오산(탐방로 입구)</td>\n",
       "      <td>8533340</td>\n",
       "    </tr>\n",
       "    <tr>\n",
       "      <th>29</th>\n",
       "      <td>남산</td>\n",
       "      <td>8363723</td>\n",
       "    </tr>\n",
       "    <tr>\n",
       "      <th>30</th>\n",
       "      <td>관광축제(은어,송이)</td>\n",
       "      <td>8272824</td>\n",
       "    </tr>\n",
       "    <tr>\n",
       "      <th>31</th>\n",
       "      <td>대릉원</td>\n",
       "      <td>7708627</td>\n",
       "    </tr>\n",
       "    <tr>\n",
       "      <th>32</th>\n",
       "      <td>강구항</td>\n",
       "      <td>7143588</td>\n",
       "    </tr>\n",
       "  </tbody>\n",
       "</table>\n",
       "</div>"
      ],
      "text/plain": [
       "            관광지         총계\n",
       "0          두류공원  133245696\n",
       "1        보문관광단지   60215672\n",
       "2           동화사   56663992\n",
       "3      갓바위집단시설지   51517471\n",
       "4           갓바위   51246042\n",
       "5          앞산공원   45947380\n",
       "6           파계사   28259191\n",
       "7           불국사   27711905\n",
       "8          달성공원   22531492\n",
       "9           강구항   21859039\n",
       "10       풍기인삼시장   21556407\n",
       "11     문경새재도립공원   17898067\n",
       "12        해맞이광장   17189224\n",
       "13         하회마을   17150877\n",
       "14          석굴암   16018751\n",
       "15    경주 동궁과 월지   14789511\n",
       "16         죽도시장   14103199\n",
       "17       우방타워랜드   13936792\n",
       "18       직지문화공원   13581067\n",
       "19     국채보상기념공원   13328271\n",
       "20   안동국제탈춤페스티벌   12975672\n",
       "21       월포해수욕장   11371379\n",
       "22         경주월드   10978093\n",
       "23          부석사    9752197\n",
       "24          이월드    9746318\n",
       "25  금오산(탐방로 입구)    9513917\n",
       "26     고령지산동고분군    9131295\n",
       "27      국립등대박물관    8723429\n",
       "28  금오산(탐방로 입구)    8533340\n",
       "29           남산    8363723\n",
       "30  관광축제(은어,송이)    8272824\n",
       "31          대릉원    7708627\n",
       "32          강구항    7143588"
      ]
     },
     "execution_count": 68,
     "metadata": {},
     "output_type": "execute_result"
    }
   ],
   "source": [
    "data1"
   ]
  },
  {
   "cell_type": "code",
   "execution_count": null,
   "metadata": {},
   "outputs": [],
   "source": []
  },
  {
   "cell_type": "code",
   "execution_count": 67,
   "metadata": {},
   "outputs": [
    {
     "data": {
      "text/plain": [
       "<matplotlib.axes._subplots.AxesSubplot at 0x1a9815c1710>"
      ]
     },
     "execution_count": 67,
     "metadata": {},
     "output_type": "execute_result"
    },
    {
     "data": {
      "image/png": "[encoded data removed]",
      "text/plain": [
       "<Figure size 432x288 with 1 Axes>"
      ]
     },
     "metadata": {
      "needs_background": "light"
     },
     "output_type": "display_data"
    }
   ],
   "source": [
    "data1['총계'].plot(kind='bar')"
   ]
  },
  {
   "cell_type": "code",
   "execution_count": null,
   "metadata": {},
   "outputs": [],
   "source": []
  },
  {
   "cell_type": "code",
   "execution_count": null,
   "metadata": {},
   "outputs": [],
   "source": []
  },
  {
   "cell_type": "code",
   "execution_count": null,
   "metadata": {},
   "outputs": [],
   "source": []
  },
  {
   "cell_type": "code",
   "execution_count": null,
   "metadata": {},
   "outputs": [],
   "source": []
  },
  {
   "cell_type": "code",
   "execution_count": null,
   "metadata": {},
   "outputs": [],
   "source": []
  },
  {
   "cell_type": "code",
   "execution_count": null,
   "metadata": {},
   "outputs": [],
   "source": []
  },
  {
   "cell_type": "code",
   "execution_count": null,
   "metadata": {},
   "outputs": [],
   "source": []
  },
  {
   "cell_type": "code",
   "execution_count": null,
   "metadata": {},
   "outputs": [],
   "source": []
  },
  {
   "cell_type": "code",
   "execution_count": null,
   "metadata": {},
   "outputs": [],
   "source": []
  },
  {
   "cell_type": "code",
   "execution_count": null,
   "metadata": {},
   "outputs": [],
   "source": []
  },
  {
   "cell_type": "code",
   "execution_count": null,
   "metadata": {},
   "outputs": [],
   "source": []
  },
  {
   "cell_type": "code",
   "execution_count": null,
   "metadata": {},
   "outputs": [],
   "source": []
  }
 ],
 "metadata": {
  "kernelspec": {
   "display_name": "Python 3",
   "language": "python",
   "name": "python3"
  },
  "language_info": {
   "codemirror_mode": {
    "name": "ipython",
    "version": 3
   },
   "file_extension": ".py",
   "mimetype": "text/x-python",
   "name": "python",
   "nbconvert_exporter": "python",
   "pygments_lexer": "ipython3",
   "version": "3.7.3"
  }
 },
 "nbformat": 4,
 "nbformat_minor": 2
}
